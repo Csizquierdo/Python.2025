{
 "cells": [
  {
   "cell_type": "markdown",
   "metadata": {
    "id": "yLuoG77ecxrr"
   },
   "source": [
    "# Conexión a la base de datos"
   ]
  },
  {
   "cell_type": "code",
   "execution_count": 1,
   "metadata": {
    "colab": {
     "base_uri": "https://localhost:8080/"
    },
    "executionInfo": {
     "elapsed": 312,
     "status": "ok",
     "timestamp": 1726272411096,
     "user": {
      "displayName": "Esteban Acevedo",
      "userId": "06505506132391743786"
     },
     "user_tz": 180
    },
    "id": "gQBskJ83cSmV",
    "outputId": "efb497dc-33da-4d58-cd37-99ea1499e98f"
   },
   "outputs": [
    {
     "data": {
      "text/plain": [
       "<sqlite3.Cursor at 0x211289161c0>"
      ]
     },
     "execution_count": 1,
     "metadata": {},
     "output_type": "execute_result"
    }
   ],
   "source": [
    "import sqlite3\n",
    "\n",
    "conexion = sqlite3.connect('base.db')\n",
    "cursor = conexion.cursor()\n",
    "\n",
    "# Activación de claves foráneas para Sqlite\n",
    "cursor.execute(\"PRAGMA foreign_keys = ON\")\n"
   ]
  },
  {
   "cell_type": "markdown",
   "metadata": {
    "id": "KsTWUqe5dT5o"
   },
   "source": [
    "# Creación de tablas"
   ]
  },
  {
   "cell_type": "markdown",
   "metadata": {
    "id": "RvdcDmuWdWGm"
   },
   "source": [
    "### Pais"
   ]
  },
  {
   "cell_type": "code",
   "execution_count": 2,
   "metadata": {
    "colab": {
     "base_uri": "https://localhost:8080/"
    },
    "executionInfo": {
     "elapsed": 1093,
     "status": "ok",
     "timestamp": 1726271976563,
     "user": {
      "displayName": "Esteban Acevedo",
      "userId": "06505506132391743786"
     },
     "user_tz": 180
    },
    "id": "wEkkW-o3dQGR",
    "outputId": "291c4bde-2f9b-4a07-b67d-b021fcb64183"
   },
   "outputs": [
    {
     "name": "stdout",
     "output_type": "stream",
     "text": [
      "Tabla creada\n"
     ]
    }
   ],
   "source": [
    "cursor.execute(\"\"\"\n",
    "    CREATE TABLE Pais (\n",
    "        id INTEGER PRIMARY KEY AUTOINCREMENT,\n",
    "        nombre TEXT NOT NULL UNIQUE\n",
    "    )\n",
    "\"\"\")\n",
    "\n",
    "print(\"Tabla creada\")"
   ]
  },
  {
   "cell_type": "markdown",
   "metadata": {
    "id": "iMEpPw4xdvDj"
   },
   "source": [
    "### Producto"
   ]
  },
  {
   "cell_type": "code",
   "execution_count": 3,
   "metadata": {
    "colab": {
     "base_uri": "https://localhost:8080/"
    },
    "executionInfo": {
     "elapsed": 326,
     "status": "ok",
     "timestamp": 1726271979922,
     "user": {
      "displayName": "Esteban Acevedo",
      "userId": "06505506132391743786"
     },
     "user_tz": 180
    },
    "id": "RZvBLyYgdx7X",
    "outputId": "dc519aec-1d26-47df-c15a-91654b1b6c86"
   },
   "outputs": [
    {
     "name": "stdout",
     "output_type": "stream",
     "text": [
      "Tabla creada\n"
     ]
    }
   ],
   "source": [
    "cursor.execute(\"\"\"\n",
    "    CREATE TABLE Producto (\n",
    "        id INTEGER PRIMARY KEY AUTOINCREMENT,\n",
    "        nombre TEXT NOT NULL UNIQUE\n",
    "    )\n",
    "\"\"\")\n",
    "\n",
    "print(\"Tabla creada\")"
   ]
  },
  {
   "cell_type": "markdown",
   "metadata": {
    "id": "Z3o-6k6NeBlx"
   },
   "source": [
    "### Cliente"
   ]
  },
  {
   "cell_type": "code",
   "execution_count": 7,
   "metadata": {
    "colab": {
     "base_uri": "https://localhost:8080/"
    },
    "executionInfo": {
     "elapsed": 1017,
     "status": "ok",
     "timestamp": 1726271982920,
     "user": {
      "displayName": "Esteban Acevedo",
      "userId": "06505506132391743786"
     },
     "user_tz": 180
    },
    "id": "2Cp7gc2beLRm",
    "outputId": "9415e90c-ed97-40c5-8f39-0a1fd7c335c1"
   },
   "outputs": [
    {
     "name": "stdout",
     "output_type": "stream",
     "text": [
      "Tabla creada\n"
     ]
    }
   ],
   "source": [
    "cursor.execute(\"\"\"\n",
    "    CREATE TABLE Cliente (\n",
    "        id INTEGER PRIMARY KEY AUTOINCREMENT,\n",
    "        nombre TEXT NOT NULL,\n",
    "        apellido TEXT NOT NULL,\n",
    "        nacimiento TEXT,\n",
    "        pais_origen_id INTEGER REFERENCES Pais(id) ON DELETE SET NULL\n",
    "        )\n",
    "\"\"\")\n",
    "\n",
    "print(\"Tabla creada\")"
   ]
  },
  {
   "cell_type": "markdown",
   "metadata": {
    "id": "UbqXRKQ4eWrT"
   },
   "source": [
    "### Cliente_Producto"
   ]
  },
  {
   "cell_type": "code",
   "execution_count": 4,
   "metadata": {
    "colab": {
     "base_uri": "https://localhost:8080/"
    },
    "executionInfo": {
     "elapsed": 3,
     "status": "ok",
     "timestamp": 1726271985098,
     "user": {
      "displayName": "Esteban Acevedo",
      "userId": "06505506132391743786"
     },
     "user_tz": 180
    },
    "id": "RobvmCxseaJT",
    "outputId": "ce3dc1b5-5687-4756-daa9-1b5ced386782"
   },
   "outputs": [
    {
     "name": "stdout",
     "output_type": "stream",
     "text": [
      "Tabla creada\n"
     ]
    }
   ],
   "source": [
    "cursor.execute(\"\"\"\n",
    "    CREATE TABLE Cliente_Producto (\n",
    "        id INTEGER PRIMARY KEY AUTOINCREMENT,\n",
    "        cliente_id INTEGER REFERENCES Cliente(id) ON DELETE CASCADE,\n",
    "        producto_id INTEGER REFERENCES Producto(id) ON DELETE CASCADE\n",
    "        )\n",
    "\"\"\")\n",
    "\n",
    "print(\"Tabla creada\")"
   ]
  },
  {
   "cell_type": "markdown",
   "metadata": {
    "id": "lnXIrhISfbl7"
   },
   "source": [
    "# Creación de registros"
   ]
  },
  {
   "cell_type": "markdown",
   "metadata": {
    "id": "oELCFbVQgr-j"
   },
   "source": [
    "### Paises"
   ]
  },
  {
   "cell_type": "code",
   "execution_count": 5,
   "metadata": {
    "colab": {
     "base_uri": "https://localhost:8080/"
    },
    "executionInfo": {
     "elapsed": 335,
     "status": "ok",
     "timestamp": 1726272440226,
     "user": {
      "displayName": "Esteban Acevedo",
      "userId": "06505506132391743786"
     },
     "user_tz": 180
    },
    "id": "hwcj9S8IfEFz",
    "outputId": "e4521838-474e-405a-a3a1-ecbafecb2d00"
   },
   "outputs": [
    {
     "name": "stdout",
     "output_type": "stream",
     "text": [
      "Paises creados\n"
     ]
    }
   ],
   "source": [
    "sql = \"INSERT INTO Pais (nombre) VALUES (?)\"\n",
    "cursor.execute(sql, (\"Argentina\",))\n",
    "conexion.commit()\n",
    "print(\"Paises creados\")\n"
   ]
  },
  {
   "cell_type": "code",
   "execution_count": 6,
   "metadata": {
    "colab": {
     "base_uri": "https://localhost:8080/"
    },
    "executionInfo": {
     "elapsed": 318,
     "status": "ok",
     "timestamp": 1726272443733,
     "user": {
      "displayName": "Esteban Acevedo",
      "userId": "06505506132391743786"
     },
     "user_tz": 180
    },
    "id": "1j4jKTL5gjOx",
    "outputId": "e82f24fd-c28a-4210-f0d8-0599428fe620"
   },
   "outputs": [
    {
     "name": "stdout",
     "output_type": "stream",
     "text": [
      "[(1, 'Argentina')]\n"
     ]
    }
   ],
   "source": [
    "cursor.execute(\"SELECT * FROM Pais\")\n",
    "print(cursor.fetchall())"
   ]
  },
  {
   "cell_type": "code",
   "execution_count": 11,
   "metadata": {
    "colab": {
     "base_uri": "https://localhost:8080/"
    },
    "executionInfo": {
     "elapsed": 341,
     "status": "ok",
     "timestamp": 1726271992305,
     "user": {
      "displayName": "Esteban Acevedo",
      "userId": "06505506132391743786"
     },
     "user_tz": 180
    },
    "id": "BeWivhMpgKo9",
    "outputId": "6f807bf1-081f-47fe-f246-84db2215a01d"
   },
   "outputs": [
    {
     "name": "stdout",
     "output_type": "stream",
     "text": [
      "Paises creados\n"
     ]
    }
   ],
   "source": [
    "paises = [\"Brasil\", \"Chile\", \"México\", \"Ecuador\", \"Colombia\", \"Uruguay\"]\n",
    "for pais in paises:\n",
    "    cursor.execute(sql, (pais,))\n",
    "conexion.commit()\n",
    "print(\"Paises creados\")"
   ]
  },
  {
   "cell_type": "code",
   "execution_count": 12,
   "metadata": {
    "colab": {
     "base_uri": "https://localhost:8080/"
    },
    "executionInfo": {
     "elapsed": 361,
     "status": "ok",
     "timestamp": 1726271994191,
     "user": {
      "displayName": "Esteban Acevedo",
      "userId": "06505506132391743786"
     },
     "user_tz": 180
    },
    "id": "ugJQ19nWg4Ej",
    "outputId": "8b600814-6c98-4a08-c4db-4e5f111fcd53"
   },
   "outputs": [
    {
     "name": "stdout",
     "output_type": "stream",
     "text": [
      "(1, 'Argentina')\n"
     ]
    }
   ],
   "source": [
    "cursor.execute(\"SELECT * FROM Pais\")\n",
    "print(cursor.fetchone())"
   ]
  },
  {
   "cell_type": "code",
   "execution_count": 11,
   "metadata": {
    "colab": {
     "base_uri": "https://localhost:8080/"
    },
    "executionInfo": {
     "elapsed": 407,
     "status": "ok",
     "timestamp": 1726271996130,
     "user": {
      "displayName": "Esteban Acevedo",
      "userId": "06505506132391743786"
     },
     "user_tz": 180
    },
    "id": "i3LdPV2vg-_U",
    "outputId": "b7e25c93-c8d9-4e6d-9951-657cc3428feb"
   },
   "outputs": [
    {
     "name": "stdout",
     "output_type": "stream",
     "text": [
      "[(1, 'Argentina'), (2, 'Brasil'), (3, 'Chile')]\n"
     ]
    }
   ],
   "source": [
    "cursor.execute(\"SELECT * FROM Pais\")\n",
    "print(cursor.fetchmany(3))"
   ]
  },
  {
   "cell_type": "markdown",
   "metadata": {
    "id": "koYYo2wUhMQN"
   },
   "source": [
    "### Productos"
   ]
  },
  {
   "cell_type": "code",
   "execution_count": 12,
   "metadata": {
    "colab": {
     "base_uri": "https://localhost:8080/"
    },
    "executionInfo": {
     "elapsed": 364,
     "status": "ok",
     "timestamp": 1726271998374,
     "user": {
      "displayName": "Esteban Acevedo",
      "userId": "06505506132391743786"
     },
     "user_tz": 180
    },
    "id": "9lZk-VX_hO8s",
    "outputId": "f1405163-2eed-483d-c18f-bbbc62f2809d"
   },
   "outputs": [
    {
     "name": "stdout",
     "output_type": "stream",
     "text": [
      "Productos creados\n"
     ]
    }
   ],
   "source": [
    "productos = [(\"azúcar\",), (\"leche\",), (\"queso\",)]\n",
    "\n",
    "sql = \"INSERT INTO Producto (nombre) VALUES (?)\"\n",
    "cursor.executemany(sql, productos)\n",
    "print(\"Productos creados\")"
   ]
  },
  {
   "cell_type": "code",
   "execution_count": 13,
   "metadata": {
    "colab": {
     "base_uri": "https://localhost:8080/"
    },
    "executionInfo": {
     "elapsed": 364,
     "status": "ok",
     "timestamp": 1726272000276,
     "user": {
      "displayName": "Esteban Acevedo",
      "userId": "06505506132391743786"
     },
     "user_tz": 180
    },
    "id": "EFAp3E17gNrc",
    "outputId": "badc32c7-f869-4721-cfe8-188b7c4aaf9d"
   },
   "outputs": [
    {
     "name": "stdout",
     "output_type": "stream",
     "text": [
      "1 azúcar\n",
      "2 leche\n",
      "3 queso\n"
     ]
    }
   ],
   "source": [
    "cursor.execute(\"SELECT * FROM Producto\")\n",
    "items = cursor.fetchall()\n",
    "for item in items:\n",
    "    print(item[0], item[1])"
   ]
  },
  {
   "cell_type": "markdown",
   "metadata": {
    "id": "1yBqUWHEuOf7"
   },
   "source": [
    "### Cliente"
   ]
  },
  {
   "cell_type": "code",
   "execution_count": 7,
   "metadata": {
    "colab": {
     "base_uri": "https://localhost:8080/"
    },
    "executionInfo": {
     "elapsed": 11227,
     "status": "ok",
     "timestamp": 1726272491198,
     "user": {
      "displayName": "Esteban Acevedo",
      "userId": "06505506132391743786"
     },
     "user_tz": 180
    },
    "id": "T9EHIpzotzoh",
    "outputId": "444526a5-645d-4733-e488-ff77fadf7730"
   },
   "outputs": [
    {
     "name": "stdout",
     "output_type": "stream",
     "text": [
      "CREANDO CLIENTE\n",
      "País de origen:\n",
      "\t1: Argentina\n"
     ]
    },
    {
     "ename": "OperationalError",
     "evalue": "no such table: Cliente",
     "output_type": "error",
     "traceback": [
      "\u001b[1;31m---------------------------------------------------------------------------\u001b[0m",
      "\u001b[1;31mOperationalError\u001b[0m                          Traceback (most recent call last)",
      "Cell \u001b[1;32mIn[7], line 28\u001b[0m\n\u001b[0;32m     26\u001b[0m \u001b[38;5;66;03m# INSERT\u001b[39;00m\n\u001b[0;32m     27\u001b[0m sql \u001b[38;5;241m=\u001b[39m \u001b[38;5;124m\"\u001b[39m\u001b[38;5;124mINSERT INTO Cliente (nombre, apellido, nacimiento, pais_origen_id) VALUES (?,?,?,?)\u001b[39m\u001b[38;5;124m\"\u001b[39m\n\u001b[1;32m---> 28\u001b[0m \u001b[43mcursor\u001b[49m\u001b[38;5;241;43m.\u001b[39;49m\u001b[43mexecute\u001b[49m\u001b[43m(\u001b[49m\u001b[43msql\u001b[49m\u001b[43m,\u001b[49m\u001b[43m \u001b[49m\u001b[43m(\u001b[49m\u001b[43mnombre\u001b[49m\u001b[43m,\u001b[49m\u001b[43m \u001b[49m\u001b[43mapellido\u001b[49m\u001b[43m,\u001b[49m\u001b[43m \u001b[49m\u001b[43mnacimiento\u001b[49m\u001b[43m,\u001b[49m\u001b[43m \u001b[49m\u001b[43mpais_origen_id\u001b[49m\u001b[43m)\u001b[49m\u001b[43m)\u001b[49m\n\u001b[0;32m     29\u001b[0m conexion\u001b[38;5;241m.\u001b[39mcommit()\n\u001b[0;32m     30\u001b[0m \u001b[38;5;28mprint\u001b[39m(\u001b[38;5;124m\"\u001b[39m\u001b[38;5;124mCliente creado\u001b[39m\u001b[38;5;124m\"\u001b[39m)\n",
      "\u001b[1;31mOperationalError\u001b[0m: no such table: Cliente"
     ]
    }
   ],
   "source": [
    "print(\"CREANDO CLIENTE\")\n",
    "\n",
    "nombre = input(\"Nombre: \")\n",
    "if nombre == \"\":\n",
    "    nombre = None\n",
    "apellido = input(\"Apellido: \")\n",
    "if apellido == \"\":\n",
    "    apellido = None\n",
    "nacimiento = input(\"Fecha de nacimiento (aaaa-mm-dd): \")\n",
    "\n",
    "# SELECT\n",
    "print(\"País de origen:\")\n",
    "cursor.execute(\"SELECT * FROM Pais\")\n",
    "items = cursor.fetchall()\n",
    "for item in items:\n",
    "    print(f\"\\t{item[0]}: {item[1]}\")\n",
    "\n",
    "while True:\n",
    "    entrada = int(input(\"Seleccione opción: \"))\n",
    "    if entrada in [x[0] for x in items]:\n",
    "        break\n",
    "    else:\n",
    "        continue\n",
    "pais_origen_id = entrada\n",
    "\n",
    "# INSERT\n",
    "sql = \"INSERT INTO Cliente (nombre, apellido, nacimiento, pais_origen_id) VALUES (?,?,?,?)\"\n",
    "cursor.execute(sql, (nombre, apellido, nacimiento, pais_origen_id))\n",
    "conexion.commit()\n",
    "print(\"Cliente creado\")"
   ]
  },
  {
   "cell_type": "code",
   "execution_count": 15,
   "metadata": {
    "colab": {
     "base_uri": "https://localhost:8080/"
    },
    "executionInfo": {
     "elapsed": 329,
     "status": "ok",
     "timestamp": 1726272494748,
     "user": {
      "displayName": "Esteban Acevedo",
      "userId": "06505506132391743786"
     },
     "user_tz": 180
    },
    "id": "HrIkNfvc7YhL",
    "outputId": "4016d83e-e7b4-4ccc-c56e-d34948dae530"
   },
   "outputs": [
    {
     "name": "stdout",
     "output_type": "stream",
     "text": [
      "[(1, 'Esteban', 'Acevedo', '1981-1-1', 1)]\n"
     ]
    }
   ],
   "source": [
    "cursor.execute(\"SELECT * FROM Cliente\")\n",
    "print(cursor.fetchall())"
   ]
  },
  {
   "cell_type": "code",
   "execution_count": 16,
   "metadata": {
    "colab": {
     "base_uri": "https://localhost:8080/"
    },
    "executionInfo": {
     "elapsed": 327,
     "status": "ok",
     "timestamp": 1726272023928,
     "user": {
      "displayName": "Esteban Acevedo",
      "userId": "06505506132391743786"
     },
     "user_tz": 180
    },
    "id": "1h3rVimf6eNr",
    "outputId": "c3cd9f3c-da0a-4d78-e6d3-4538920e1653"
   },
   "outputs": [
    {
     "name": "stdout",
     "output_type": "stream",
     "text": [
      "ID    | NOMBRE     | APELLIDO        | NACIMIENTO      | PAIS ORIGEN    \n",
      "========================================================================\n",
      "1     | Esteban    | Acevedo         | 1981-1-1        | Argentina      \n"
     ]
    }
   ],
   "source": [
    "cursor.execute(\"\"\"\n",
    "            SELECT Cliente.id, Cliente.nombre, apellido, nacimiento, Pais.nombre\n",
    "            FROM Cliente INNER JOIN Pais ON Cliente.pais_origen_id = Pais.id\n",
    "        \"\"\")\n",
    "items = cursor.fetchall()\n",
    "\n",
    "encabezado = f\"{'ID':<5} | {'NOMBRE':<10} | {'APELLIDO':<15} | {'NACIMIENTO':<15} | {'PAIS ORIGEN':<15}\"\n",
    "print(encabezado + \"\\n\" + len(encabezado) * \"=\")\n",
    "for item in items:\n",
    "    print(f\"{item[0]:<5} | {item[1]:<10} | {item[2]:<15} | {item[3]:<15} | {item[4]:<15}\")"
   ]
  },
  {
   "cell_type": "markdown",
   "metadata": {
    "id": "ySaNxGq6-06p"
   },
   "source": [
    "### Cliente_Producto"
   ]
  },
  {
   "cell_type": "code",
   "execution_count": null,
   "metadata": {
    "colab": {
     "base_uri": "https://localhost:8080/"
    },
    "executionInfo": {
     "elapsed": 4361,
     "status": "ok",
     "timestamp": 1726272085166,
     "user": {
      "displayName": "Esteban Acevedo",
      "userId": "06505506132391743786"
     },
     "user_tz": 180
    },
    "id": "FFODYXxK-3JK",
    "outputId": "a6aeaaad-a34c-44f9-bbb3-882a51501464"
   },
   "outputs": [],
   "source": [
    "print(\"CLIENTE COMPRA PRODUCTO\")\n",
    "\n",
    "# SELECT\n",
    "print(\"Clientes:\")\n",
    "cursor.execute(\"SELECT * FROM Cliente\")\n",
    "items = cursor.fetchall()\n",
    "for item in items:\n",
    "    print(f\"\\t{item[0]}: {item[1]} {item[2]}\")\n",
    "\n",
    "while True:\n",
    "    entrada = int(input(\"Seleccione opción: \"))\n",
    "    if entrada in [x[0] for x in items]:\n",
    "        break\n",
    "    else:\n",
    "        continue\n",
    "if entrada == \"\":\n",
    "    entrada = None\n",
    "cliente_id = entrada\n",
    "\n",
    "print(\"Productos:\")\n",
    "cursor.execute(\"SELECT * FROM Producto\")\n",
    "items = cursor.fetchall()\n",
    "for item in items:\n",
    "    print(f\"\\t{item[0]}: {item[1]}\")\n",
    "\n",
    "while True:\n",
    "    entrada = int(input(\"Seleccione opción: \"))\n",
    "    if entrada in [x[0] for x in items]:\n",
    "        break\n",
    "    else:\n",
    "        continue\n",
    "if entrada == \"\":\n",
    "    entrada = None\n",
    "producto_id = entrada\n",
    "\n",
    "# INSERT\n",
    "sql = \"INSERT INTO Cliente_Producto (cliente_id, producto_id) VALUES (?,?)\"\n",
    "cursor.execute(sql, (cliente_id, producto_id))\n",
    "conexion.commit()\n",
    "print(\"Cliente - Producto creado\")"
   ]
  },
  {
   "cell_type": "code",
   "execution_count": null,
   "metadata": {
    "colab": {
     "base_uri": "https://localhost:8080/"
    },
    "executionInfo": {
     "elapsed": 315,
     "status": "ok",
     "timestamp": 1726272091225,
     "user": {
      "displayName": "Esteban Acevedo",
      "userId": "06505506132391743786"
     },
     "user_tz": 180
    },
    "id": "7pN27Z_ljKv3",
    "outputId": "b3346395-fd6d-4f72-f69a-0e5b6834a396"
   },
   "outputs": [],
   "source": [
    "cursor.execute(\"SELECT * FROM Cliente_Producto\")\n",
    "print(cursor.fetchall())"
   ]
  },
  {
   "cell_type": "code",
   "execution_count": null,
   "metadata": {
    "colab": {
     "base_uri": "https://localhost:8080/"
    },
    "executionInfo": {
     "elapsed": 357,
     "status": "ok",
     "timestamp": 1726272098749,
     "user": {
      "displayName": "Esteban Acevedo",
      "userId": "06505506132391743786"
     },
     "user_tz": 180
    },
    "id": "-w4VRG7MjeJm",
    "outputId": "6709d7f4-549a-48e7-d10e-77ec72fba931"
   },
   "outputs": [],
   "source": [
    "cursor.execute(\"\"\"\n",
    "            SELECT Cliente_Producto.id, Cliente.nombre, Cliente.apellido, Producto.nombre\n",
    "            FROM Cliente_Producto\n",
    "            INNER JOIN Cliente ON Cliente_Producto.cliente_id = Cliente.id\n",
    "            INNER JOIN Producto ON Cliente_Producto.producto_id = Producto.id\n",
    "        \"\"\")\n",
    "items = cursor.fetchall()\n",
    "\n",
    "encabezado = f\"{'ID':<5} | {'CLIENTE':<25} | {'PRODUCTO':<15}\"\n",
    "print(encabezado + \"\\n\" + len(encabezado) * \"=\")\n",
    "for item in items:\n",
    "    cliente = item[1] + \" \" + item[2]\n",
    "    print(f\"{item[0]:<5} | {cliente:<25} | {item[3]:15}\")"
   ]
  },
  {
   "cell_type": "markdown",
   "metadata": {
    "id": "BBq7jrTIuzl-"
   },
   "source": [
    "# Consultas con condiciones"
   ]
  },
  {
   "cell_type": "code",
   "execution_count": null,
   "metadata": {
    "colab": {
     "base_uri": "https://localhost:8080/"
    },
    "executionInfo": {
     "elapsed": 498,
     "status": "ok",
     "timestamp": 1726272103554,
     "user": {
      "displayName": "Esteban Acevedo",
      "userId": "06505506132391743786"
     },
     "user_tz": 180
    },
    "id": "PPBYfG6Xu2FH",
    "outputId": "8a449608-4164-4c76-92e8-75c86fc153d4"
   },
   "outputs": [],
   "source": [
    "cursor.execute(\"\"\"\n",
    "            SELECT Cliente_Producto.id, Cliente.nombre, Cliente.apellido, Producto.nombre\n",
    "            FROM Cliente_Producto\n",
    "            INNER JOIN Cliente ON Cliente_Producto.cliente_id = Cliente.id\n",
    "            INNER JOIN Producto ON Cliente_Producto.producto_id = Producto.id\n",
    "            ORDER BY Producto.nombre ASC\n",
    "        \"\"\")\n",
    "items = cursor.fetchall()\n",
    "for item in items:\n",
    "    print(item)"
   ]
  },
  {
   "cell_type": "code",
   "execution_count": null,
   "metadata": {
    "colab": {
     "base_uri": "https://localhost:8080/"
    },
    "executionInfo": {
     "elapsed": 429,
     "status": "ok",
     "timestamp": 1726272106697,
     "user": {
      "displayName": "Esteban Acevedo",
      "userId": "06505506132391743786"
     },
     "user_tz": 180
    },
    "id": "6Rh0NfmSvx8E",
    "outputId": "7045b3ce-4892-4d11-a472-d17e67e86cf0"
   },
   "outputs": [],
   "source": [
    "cursor.execute(\"\"\"\n",
    "            SELECT Cliente_Producto.id, Cliente.nombre, Cliente.apellido, Producto.nombre\n",
    "            FROM Cliente_Producto\n",
    "            INNER JOIN Cliente ON Cliente_Producto.cliente_id = Cliente.id\n",
    "            INNER JOIN Producto ON Cliente_Producto.producto_id = Producto.id\n",
    "            WHERE Producto.nombre = \"queso\"\n",
    "        \"\"\")\n",
    "items = cursor.fetchall()\n",
    "for item in items:\n",
    "    print(item)"
   ]
  },
  {
   "cell_type": "code",
   "execution_count": null,
   "metadata": {
    "colab": {
     "base_uri": "https://localhost:8080/"
    },
    "executionInfo": {
     "elapsed": 327,
     "status": "ok",
     "timestamp": 1721429198315,
     "user": {
      "displayName": "Esteban Acevedo",
      "userId": "06505506132391743786"
     },
     "user_tz": 180
    },
    "id": "5jlHTtAywYRL",
    "outputId": "fd2b2b63-1425-4582-df4f-873f20458699"
   },
   "outputs": [],
   "source": [
    "cursor.execute(\"\"\"\n",
    "            SELECT Cliente_Producto.id, Cliente.nombre, Cliente.apellido, Producto.nombre\n",
    "            FROM Cliente_Producto\n",
    "            INNER JOIN Cliente ON Cliente_Producto.cliente_id = Cliente.id\n",
    "            INNER JOIN Producto ON Cliente_Producto.producto_id = Producto.id\n",
    "            WHERE Cliente.nombre like \"%e%\"\n",
    "        \"\"\")\n",
    "items = cursor.fetchall()\n",
    "for item in items:\n",
    "    print(item)"
   ]
  },
  {
   "cell_type": "markdown",
   "metadata": {
    "id": "F64nYRUDuEDb"
   },
   "source": [
    "# Modificación de registros"
   ]
  },
  {
   "cell_type": "code",
   "execution_count": null,
   "metadata": {
    "colab": {
     "base_uri": "https://localhost:8080/"
    },
    "executionInfo": {
     "elapsed": 9992,
     "status": "ok",
     "timestamp": 1726272182296,
     "user": {
      "displayName": "Esteban Acevedo",
      "userId": "06505506132391743786"
     },
     "user_tz": 180
    },
    "id": "PZXfYSZhucLm",
    "outputId": "269d1c86-dc82-448d-b7b0-9bcf5df41569"
   },
   "outputs": [],
   "source": [
    "print(\"Modificando cliente.\")\n",
    "apellido_cambiar = input(\"Ingrese apellido a cambiar: \")\n",
    "apellido_nuevo = input(\"Ingrese apellido nuevo: \")\n",
    "\n",
    "sql = \"UPDATE Cliente SET apellido = ? WHERE apellido = ?\"\n",
    "cursor.execute(sql, (apellido_nuevo, apellido_cambiar))\n",
    "conexion.commit()\n",
    "print(\"Registro modificado\")"
   ]
  },
  {
   "cell_type": "code",
   "execution_count": null,
   "metadata": {
    "colab": {
     "base_uri": "https://localhost:8080/"
    },
    "executionInfo": {
     "elapsed": 371,
     "status": "ok",
     "timestamp": 1726272292609,
     "user": {
      "displayName": "Esteban Acevedo",
      "userId": "06505506132391743786"
     },
     "user_tz": 180
    },
    "id": "W-vJrBW90stg",
    "outputId": "33f93f22-38f8-4993-f63f-e6ba6438fa84"
   },
   "outputs": [],
   "source": [
    "cursor.execute(\"SELECT * FROM Cliente\")\n",
    "items = cursor.fetchall()\n",
    "for item in items:\n",
    "    print(item)"
   ]
  },
  {
   "cell_type": "markdown",
   "metadata": {
    "id": "iNYgbWiM4E7l"
   },
   "source": [
    "# Eliminación de registros"
   ]
  },
  {
   "cell_type": "code",
   "execution_count": null,
   "metadata": {
    "colab": {
     "base_uri": "https://localhost:8080/"
    },
    "executionInfo": {
     "elapsed": 9979,
     "status": "ok",
     "timestamp": 1726272207363,
     "user": {
      "displayName": "Esteban Acevedo",
      "userId": "06505506132391743786"
     },
     "user_tz": 180
    },
    "id": "0jVdvAuC4HFr",
    "outputId": "483b60b5-8518-4047-9841-8e2bc573bf92"
   },
   "outputs": [],
   "source": [
    "print(\"Eliminando producto.\")\n",
    "producto_eliminar = input(\"Ingrese producto a eliminar: \")\n",
    "\n",
    "sql = \"DELETE FROM Producto WHERE nombre = ?\"\n",
    "cursor.execute(sql, (producto_eliminar,))\n",
    "conexion.commit()\n",
    "print(\"Registro eliminado\")"
   ]
  },
  {
   "cell_type": "code",
   "execution_count": null,
   "metadata": {
    "colab": {
     "base_uri": "https://localhost:8080/"
    },
    "executionInfo": {
     "elapsed": 336,
     "status": "ok",
     "timestamp": 1726272209854,
     "user": {
      "displayName": "Esteban Acevedo",
      "userId": "06505506132391743786"
     },
     "user_tz": 180
    },
    "id": "t3GfEV8B48Mk",
    "outputId": "de0c65a4-8213-4737-b081-876d88fcbc39"
   },
   "outputs": [],
   "source": [
    "cursor.execute(\"SELECT * FROM Producto\")\n",
    "items = cursor.fetchall()\n",
    "for item in items:\n",
    "    print(item)"
   ]
  },
  {
   "cell_type": "code",
   "execution_count": null,
   "metadata": {
    "colab": {
     "base_uri": "https://localhost:8080/"
    },
    "executionInfo": {
     "elapsed": 306,
     "status": "ok",
     "timestamp": 1726272518779,
     "user": {
      "displayName": "Esteban Acevedo",
      "userId": "06505506132391743786"
     },
     "user_tz": 180
    },
    "id": "3ArwTgXU96dR",
    "outputId": "5970756a-7748-4e7f-a367-3398a6e36de7"
   },
   "outputs": [],
   "source": [
    "sql = \"DELETE FROM Pais WHERE nombre = ?\"\n",
    "cursor.execute(sql, (\"Argentina\",))\n",
    "conexion.commit()\n",
    "print(\"Registro eliminado\")"
   ]
  },
  {
   "cell_type": "code",
   "execution_count": null,
   "metadata": {
    "colab": {
     "base_uri": "https://localhost:8080/"
    },
    "executionInfo": {
     "elapsed": 319,
     "status": "ok",
     "timestamp": 1726272520628,
     "user": {
      "displayName": "Esteban Acevedo",
      "userId": "06505506132391743786"
     },
     "user_tz": 180
    },
    "id": "4GsvS5AAm3h8",
    "outputId": "f8f9628d-d3a9-493a-ae9c-98eed0c49d45"
   },
   "outputs": [],
   "source": [
    "cursor.execute(\"SELECT * FROM Pais\")\n",
    "items = cursor.fetchall()\n",
    "for item in items:\n",
    "    print(item)"
   ]
  },
  {
   "cell_type": "code",
   "execution_count": null,
   "metadata": {
    "colab": {
     "base_uri": "https://localhost:8080/"
    },
    "executionInfo": {
     "elapsed": 317,
     "status": "ok",
     "timestamp": 1726272525910,
     "user": {
      "displayName": "Esteban Acevedo",
      "userId": "06505506132391743786"
     },
     "user_tz": 180
    },
    "id": "NQwX2jPm-Dgg",
    "outputId": "237b886b-0014-424e-f6c6-347120bb2afd"
   },
   "outputs": [],
   "source": [
    "cursor.execute(\"SELECT * FROM Cliente\")\n",
    "items = cursor.fetchall()\n",
    "for item in items:\n",
    "    print(item)"
   ]
  },
  {
   "cell_type": "code",
   "execution_count": null,
   "metadata": {
    "colab": {
     "base_uri": "https://localhost:8080/"
    },
    "executionInfo": {
     "elapsed": 4,
     "status": "ok",
     "timestamp": 1721429338036,
     "user": {
      "displayName": "Esteban Acevedo",
      "userId": "06505506132391743786"
     },
     "user_tz": 180
    },
    "id": "JyEImMgm7EFG",
    "outputId": "5089ed5b-d9c8-4b98-e2fa-5cb2d3a264ab"
   },
   "outputs": [],
   "source": [
    "cursor.execute(\"SELECT * FROM Cliente_Producto\")\n",
    "items = cursor.fetchall()\n",
    "for item in items:\n",
    "    print(item)\n",
    "\n"
   ]
  },
  {
   "cell_type": "code",
   "execution_count": null,
   "metadata": {
    "colab": {
     "base_uri": "https://localhost:8080/"
    },
    "executionInfo": {
     "elapsed": 312,
     "status": "ok",
     "timestamp": 1721429364963,
     "user": {
      "displayName": "Esteban Acevedo",
      "userId": "06505506132391743786"
     },
     "user_tz": 180
    },
    "id": "fewyB-lFnfAs",
    "outputId": "ef377fb4-6b74-4ea8-df88-4c37363e1dba"
   },
   "outputs": [],
   "source": [
    "cursor.execute(\"\"\"\n",
    "            SELECT Cliente_Producto.id, Cliente.nombre, Cliente.apellido, Producto.nombre\n",
    "            FROM Cliente_Producto\n",
    "            INNER JOIN Cliente ON Cliente_Producto.cliente_id = Cliente.id\n",
    "            INNER JOIN Producto ON Cliente_Producto.producto_id = Producto.id\n",
    "        \"\"\")\n",
    "items = cursor.fetchall()\n",
    "\n",
    "encabezado = f\"{'ID':<5} | {'CLIENTE':<25} | {'PRODUCTO':<15}\"\n",
    "print(encabezado + \"\\n\" + len(encabezado) * \"=\")\n",
    "for item in items:\n",
    "    cliente = item[1] + \" \" + item[2]\n",
    "    print(f\"{item[0]:<5} | {cliente:<25} | {item[3]:15}\")"
   ]
  },
  {
   "cell_type": "markdown",
   "metadata": {
    "id": "IjbPA9L3FbOi"
   },
   "source": [
    "Uso de Pandas"
   ]
  },
  {
   "cell_type": "code",
   "execution_count": 1,
   "metadata": {
    "executionInfo": {
     "elapsed": 3697,
     "status": "ok",
     "timestamp": 1726326668344,
     "user": {
      "displayName": "Esteban Acevedo",
      "userId": "06505506132391743786"
     },
     "user_tz": 180
    },
    "id": "v6UtBW8UFdvn"
   },
   "outputs": [],
   "source": [
    "import pandas\n",
    "\n",
    "datos = pandas.read_csv(\"dataset_turnos_detalle.csv\")\n"
   ]
  },
  {
   "cell_type": "code",
   "execution_count": null,
   "metadata": {
    "colab": {
     "base_uri": "https://localhost:8080/",
     "height": 702
    },
    "executionInfo": {
     "elapsed": 381,
     "status": "ok",
     "timestamp": 1726326677924,
     "user": {
      "displayName": "Esteban Acevedo",
      "userId": "06505506132391743786"
     },
     "user_tz": 180
    },
    "id": "NOy5O9ofFoLL",
    "outputId": "9d3d5583-5473-4705-b55c-efcda289bda6"
   },
   "outputs": [],
   "source": [
    "datos"
   ]
  },
  {
   "cell_type": "code",
   "execution_count": null,
   "metadata": {
    "colab": {
     "base_uri": "https://localhost:8080/",
     "height": 1000
    },
    "executionInfo": {
     "elapsed": 338,
     "status": "ok",
     "timestamp": 1726326722239,
     "user": {
      "displayName": "Esteban Acevedo",
      "userId": "06505506132391743786"
     },
     "user_tz": 180
    },
    "id": "ChaTx6cxFwxc",
    "outputId": "eee751d0-6b88-4fca-f9ee-65e3eed6ae33"
   },
   "outputs": [],
   "source": [
    "datos[\"sede\"].value_counts()"
   ]
  }
 ],
 "metadata": {
  "colab": {
   "authorship_tag": "ABX9TyM3ad/GUQnhTXZjhQP6SwTk",
   "provenance": [
    {
     "file_id": "1-y2L3CjfrQDsvwuOQTo0UQR0hosk-syX",
     "timestamp": 1726260747187
    },
    {
     "file_id": "1mDzdFuucn8jmB5gFR43IttiKQjYXdcKI",
     "timestamp": 1721423095497
    }
   ]
  },
  "kernelspec": {
   "display_name": ".venv",
   "language": "python",
   "name": "python3"
  },
  "language_info": {
   "codemirror_mode": {
    "name": "ipython",
    "version": 3
   },
   "file_extension": ".py",
   "mimetype": "text/x-python",
   "name": "python",
   "nbconvert_exporter": "python",
   "pygments_lexer": "ipython3",
   "version": "3.13.1"
  }
 },
 "nbformat": 4,
 "nbformat_minor": 0
}
